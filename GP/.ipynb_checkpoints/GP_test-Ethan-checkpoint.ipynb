{
 "cells": [
  {
   "cell_type": "code",
   "execution_count": 135,
   "id": "4b1e3cbc-b482-45cd-853f-5843117b5738",
   "metadata": {},
   "outputs": [],
   "source": [
    "import torch\n",
    "import numpy as np\n",
    "from torch.distributions.multivariate_normal import MultivariateNormal as MN\n",
    "import matplotlib.pyplot as plt"
   ]
  },
  {
   "cell_type": "markdown",
   "id": "fb169597-1d4d-4895-bdad-ce51948995e1",
   "metadata": {},
   "source": [
    "### GP Code"
   ]
  },
  {
   "cell_type": "code",
   "execution_count": 136,
   "id": "33f396d0-f4df-46b9-af9a-6ad4f2262cd1",
   "metadata": {},
   "outputs": [],
   "source": [
    "def stack_traj(Y:torch.tensor):\n",
    "    \"\"\"\n",
    "    Stacks trajectory Y into a vector starting with time series of element 0, \n",
    "    followed by time series of element 1, and so on ...\n",
    "    args:\n",
    "        Y: output trajectory with shape (tmax, m)\n",
    "    returns:\n",
    "        Y2: stacked and ordered array with shape (m*tmax)\n",
    "    \"\"\"\n",
    "    tmax = Y.shape[0]; m = Y.shape[1]\n",
    "    Y2 = torch.zeros(m*tmax)\n",
    "\n",
    "    for j in range(m):\n",
    "        Y2[j*tmax:(j+1)*tmax] = Y[:,j]\n",
    "    \n",
    "    return Y2.double()\n",
    "    "
   ]
  },
  {
   "cell_type": "code",
   "execution_count": 137,
   "id": "05555891-6e9c-478b-b0b3-258a9fc1ecce",
   "metadata": {},
   "outputs": [],
   "source": [
    "def SE_kernel(t1:torch.tensor, t2:torch.tensor, m:int, lt=5.0):\n",
    "    \"Squared exponential kernel.\"\n",
    "    temp = torch.exp( -0.5/(lt*lt) * (t1-t2)**2 )*torch.eye(m)\n",
    "    return temp.double()"
   ]
  },
  {
   "cell_type": "code",
   "execution_count": 138,
   "id": "8567d83a-4ea7-4f0c-a978-3ac63fa99cfb",
   "metadata": {},
   "outputs": [],
   "source": [
    "def Lambda(t1:torch.tensor, t2:torch.tensor, A:torch.tensor, B:torch.tensor, \n",
    "           C:torch.tensor, D:torch.tensor):\n",
    "    \"\"\"\n",
    "    Computes Lambda term used in the physics enhanced kernel.\n",
    "    args:\n",
    "        t1: time step\n",
    "        t2: time step\n",
    "        A: LTI parameter of PE kernel\n",
    "        B: LTI parameter of PE kernel\n",
    "        C: LTI parameter of PE kernel\n",
    "        D: LTI parameter of PE kernel\n",
    "    returns:\n",
    "        L: (torch.tensor) Lambda term as a function of t1-t2.\n",
    "    \"\"\"\n",
    "    L = torch.matrix_exp(A*(t1-t2))\n",
    "    L = torch.matmul(L, B)\n",
    "    L = torch.matmul(C, L)\n",
    "    \n",
    "    return L.double()"
   ]
  },
  {
   "cell_type": "code",
   "execution_count": 139,
   "id": "6e5435e6-3ba0-4c7c-88e9-5a6e6e2a2f0d",
   "metadata": {},
   "outputs": [],
   "source": [
    "def PE_kernel(j:int, q:int, ti:torch.tensor, tl:torch.tensor, res:float, A:torch.tensor, \n",
    "              B:torch.tensor, C:torch.tensor, D:torch.tensor):\n",
    "    \"\"\"\n",
    "    Computes covariance between outputs y_j(ti) and y_q(tl) using the physics enhanced kernel.\n",
    "    args:\n",
    "        j: dimension of y\n",
    "        q: dimension of y\n",
    "       ti: time step\n",
    "       tl: time step\n",
    "      res: resolution of integration\n",
    "        A: LTI parameter of PE kernel\n",
    "        B: LTI parameter of PE kernel\n",
    "        C: LTI parameter of PE kernel\n",
    "        D: LTI parameter of PE kernel\n",
    "    returns:\n",
    "        k_jqil: (float) covariance between outputs y_j(ti) and y_q(tl)\n",
    "    \"\"\"\n",
    "\n",
    "    # calculate data to integrate - time steps approximating domain of integration\n",
    "    Ti = torch.arange(start=0, end=ti+res, step=res)\n",
    "    Tl = torch.arange(start=0, end=tl+res, step=res)\n",
    "    temp = torch.zeros( (len(Ti), len(Tl)) )\n",
    "    \n",
    "    for i in range(len(Ti)):\n",
    "        for l in range(len(Tl)):\n",
    "            Li = Lambda(ti, Ti[i], A, B, C, D)\n",
    "            Ll = Lambda(tl, Tl[l], A, B, C, D)\n",
    "            Ku = SE_kernel(Ti[i], Tl[l], m)\n",
    "            temp2 = torch.matmul( Ku, Ll[q] )\n",
    "            temp[i, l] = torch.matmul( Li[j], temp2 )\n",
    "\n",
    "    temp2 = torch.zeros( len(Ti) )\n",
    "    for i in range(len(Ti)):\n",
    "        temp2[i] = torch.trapezoid(y=temp[i],x=Tl) # integrate along tl\n",
    "\n",
    "    k_jqil = torch.trapezoid(y=temp2,x=Ti) # integrate along ti\n",
    "\n",
    "    return k_jqil.double()"
   ]
  },
  {
   "cell_type": "code",
   "execution_count": 140,
   "id": "f203af3c-9786-4c7b-b46b-337564cb3849",
   "metadata": {},
   "outputs": [],
   "source": [
    "def K_jq(j:int, q:int, tmax:int, res:float, A:torch.tensor, B:torch.tensor, \n",
    "    C:torch.tensor, D=torch.tensor):\n",
    "\n",
    "    \"\"\"\n",
    "    Construct K_jq block of K from k_jqil - each K_jq should be symmetric and positive def.\n",
    "    *** Check if this is true! ***\n",
    "\n",
    "    args:\n",
    "        j: dimension of y\n",
    "        q: dimension of y\n",
    "     tmax: final time measurement\n",
    "      res: resolution of integration\n",
    "        A: LTI parameter of PE kernel\n",
    "        B: LTI parameter of PE kernel\n",
    "        C: LTI parameter of PE kernel\n",
    "        D: LTI parameter of PE kernel\n",
    " returns:\n",
    "      Kjq: Covariance matrix between y_j and y_q.\n",
    "    \"\"\"\n",
    "    \n",
    "    Kjq = torch.zeros((tmax,tmax))\n",
    "    T = torch.arange(tmax)\n",
    "\n",
    "    for i in range(tmax):\n",
    "        for l in range(tmax):\n",
    "            Kjq[i,l] = PE_kernel(j, q, T[i], T[l], res, A, B, C, D)\n",
    "\n",
    "    return Kjq.double()\n"
   ]
  },
  {
   "cell_type": "code",
   "execution_count": 42,
   "id": "40059738-7969-4593-9c53-955cc48c69e5",
   "metadata": {},
   "outputs": [
    {
     "name": "stdout",
     "output_type": "stream",
     "text": [
      "K_01 complete!\n",
      "K_10 complete!\n",
      "K_11 complete!\n"
     ]
    }
   ],
   "source": [
    "# j=0; q=0; res=0.5\n",
    "# K_00 = K_jq(j, q, tmax, res, A, B, C, D)\n",
    "# eigs_00 = torch.linalg.eigvals(K_00) # will all be positive if K_00 is pos.def. \n",
    "# print(\"K_00 complete!\")\n",
    "\n",
    "# j=0; q=1; res=0.5\n",
    "# K_01 = K_jq(j, q, tmax, res, A, B, C, D)\n",
    "# eigs_01 = torch.linalg.eigvals(K_01) # will all be positive if K_01 is pos.def. \n",
    "# print(\"K_01 complete!\")\n",
    "\n",
    "# j=1; q=0; res=0.5\n",
    "# K_10 = K_jq(j, q, tmax, res, A, B, C, D)\n",
    "# eigs_10 = torch.linalg.eigvals(K_10) # will all be positive if K_00 is pos.def. \n",
    "# print(\"K_10 complete!\")\n",
    "\n",
    "# j=1; q=1; res=0.5\n",
    "# K_11 = K_jq(j, q, tmax, res, A, B, C, D)\n",
    "# eigs_11 = torch.linalg.eigvals(K_11) # will all be positive if K_00 is pos.def.\n",
    "# print(\"K_11 complete!\")"
   ]
  },
  {
   "cell_type": "code",
   "execution_count": 54,
   "id": "f7d3f118-e0c9-4f3f-aac5-58b7cae617c8",
   "metadata": {},
   "outputs": [],
   "source": [
    "# Testing blocks of K\n",
    "# Shows K_01 is not symmetric or PSD\n",
    "# Shows K_10 is not symmetric or PSD\n",
    "# All other tests pass\n",
    "\n",
    "# will raise error if K_00 isn't symmetric or has negative eigenvalues\n",
    "# assert torch.allclose( K_00, K_00.t() )\n",
    "# assert torch.all( torch.ge( torch.real(eigs_00), -1e-7*torch.ones(tmax) ) )\n",
    "\n",
    "# # will raise error if K_11 isn't symmetric or has negative eigenvalues\n",
    "# assert torch.allclose( K_11, K_11.t() )\n",
    "# assert torch.all( torch.ge( torch.real(eigs_11), -1e-7*torch.ones(tmax) ) )\n",
    "\n",
    "# will raise error if K_01 isn't symmetric or has negative eigenvalues\n",
    "# assert torch.allclose( K_01, K_01.t() )\n",
    "# assert torch.all( torch.ge( torch.real(eigs_01), -1e-7*torch.ones(tmax) ) )\n",
    "\n",
    "# will raise error if K_10 isn't symmetric or has negative eigenvalues\n",
    "# assert torch.allclose( K_10, K_10.t() )\n",
    "# assert torch.all( torch.ge( torch.real(eigs_10), -1e-7*torch.ones(tmax) ) )\n",
    "\n",
    "# will raise error if K_01 and K_10 aren't symmetric - required for K to be symmetric!\n",
    "# assert torch.allclose( K_01, K_10.t() )"
   ]
  },
  {
   "cell_type": "code",
   "execution_count": 141,
   "id": "f5f7b569-9adb-4bc8-aa5e-378bded15c4f",
   "metadata": {},
   "outputs": [],
   "source": [
    "def K(m:int, tmax:torch.tensor, res:torch.tensor, A:torch.tensor, \n",
    "      B:torch.tensor, C:torch.tensor, D=torch.tensor):\n",
    "\n",
    "    \"\"\"\n",
    "    Construct K from K_jq blocks - should be symmetric and positive def.\n",
    "    *** Check if this is true! ***\n",
    "    \n",
    "    args:\n",
    "        m: dimension of y\n",
    "     tmax: final time measurement\n",
    "      res: resolution of integration\n",
    "        A: LTI parameter of PE kernel\n",
    "        B: LTI parameter of PE kernel\n",
    "        C: LTI parameter of PE kernel\n",
    "        D: LTI parameter of PE kernel\n",
    " returns:\n",
    "        K: Covariance matrix of y.\n",
    "    \n",
    "    \"\"\"\n",
    "\n",
    "    K = torch.zeros((m*tmax,m*tmax))\n",
    "    T = len( torch.arange(tmax) )\n",
    "\n",
    "    for j in range(m):\n",
    "        for q in range(m):\n",
    "            K[j*T:(j+1)*T,q*T:(q+1)*T] = K_jq(j, q, tmax, res, A, B, C, D)\n",
    "            text = 'K_{0}{1} complete!'.format(j,q)\n",
    "            print(text)\n",
    "\n",
    "    return K.double()"
   ]
  },
  {
   "cell_type": "code",
   "execution_count": 142,
   "id": "bec81acc-bdf4-4dc7-89ad-3992b04774b6",
   "metadata": {},
   "outputs": [],
   "source": [
    "def inv(K:torch.tensor, sig:torch.float):\n",
    "    \"\"\" Computes the inverse of (K + Sigma) via the Cholesky decomposition.\n",
    "        i.e. (K+Sigma)^-1 = (L*L^T)^-1 = L^-T * L^-1 where Sigma = sig*I.\n",
    "    \n",
    "    args:\n",
    "        K: Covariance matrix to be inverted (should be symmetric and PSD)\n",
    "      sig: Variance of measurement noise\n",
    "    returns:\n",
    "        K_inv: Inverse of K + sig*I.\n",
    "    \"\"\"\n",
    "    \n",
    "    dim0 = K.shape[0]\n",
    "    Sigma = sig*torch.eye(dim0)\n",
    "\n",
    "    # Cholesky will only work for symmetric pos. def. matrices.\n",
    "    # As K is PSD, need some measurement noise, Sigma, to guarantee this.\n",
    "    K_inv = torch.linalg.cholesky( K + Sigma ) # L\n",
    "    \n",
    "    K_inv = torch.inverse(K_inv) # L_inv\n",
    "    K_inv = torch.matmul( K_inv.t(), K_inv ) # K_inv\n",
    "    \n",
    "    return K_inv.double()\n",
    "\n",
    "def post(K:torch.tensor, sig:torch.float, Y:torch.tensor, K_inv:torch.tensor=None):\n",
    "    \"\"\" Compute posterior mean and covariance. \n",
    "       args:\n",
    "            K: Covariance matrix of y.\n",
    "          sig: Variance of measurement noise.\n",
    "            Y: (tmax, m) data matrix.\n",
    "        K_inv: (optional) if K_inv has already been computed, it can be passed in here.\n",
    "    returns:\n",
    "      mu_post: posterior mean\n",
    "       K_post: posterior covariance\n",
    "        K_inv: inverse of K\n",
    "    \"\"\"\n",
    "\n",
    "    # Y = stack_traj(Y)\n",
    "    \n",
    "    if K_inv == None:\n",
    "        print(\"Computing K_inv ...\")\n",
    "        K_inv = inv(K, sig)\n",
    "        print(\"K_inv computed!\")\n",
    "    \n",
    "    mu_post = torch.matmul(K_inv, Y)\n",
    "    mu_post = torch.matmul(K, mu_post)\n",
    "\n",
    "    K_post = torch.matmul(K_inv, K)\n",
    "    K_post = K_post - torch.matmul(K, K_post)\n",
    "\n",
    "    return mu_post, K_post, K_inv"
   ]
  },
  {
   "cell_type": "markdown",
   "id": "ce86b95d-6ad2-412c-b0f6-2518c6a47cea",
   "metadata": {},
   "source": [
    "### Plotting functions"
   ]
  },
  {
   "cell_type": "code",
   "execution_count": 143,
   "id": "432ae44d-5674-49cc-85eb-09c395138def",
   "metadata": {},
   "outputs": [],
   "source": [
    "def plot_K(K:torch.tensor, tmax:int):\n",
    "    \"Plot covariance matrix.\"\n",
    "\n",
    "    fig = plt.figure()\n",
    "    ax = fig.add_subplot(1,1,1)\n",
    "    im = ax.imshow(K_mat)\n",
    "    plt.colorbar(im)\n",
    "\n",
    "    # # set ticks along x and y axis\n",
    "    # ticks = torch.arange(tmax)\n",
    "    \n",
    "    # labels = []\n",
    "    # for i in range(2*tmax):\n",
    "    #     labels.append('')\n",
    "\n",
    "    #     if i==0 or i==9 or i==19 or i==29:\n",
    "    #         str = '{0}'.format(i)\n",
    "    #     # if i >= tmax and (i==30 or i==39 or i==49 or i==59):\n",
    "    #     #     str = '{0}'.format(i-tmax)\n",
    "            \n",
    "    #     labels.append(str)\n",
    "        \n",
    "    # ax.set_xticks(ticks, labels)\n",
    "    \n",
    "    return 0\n",
    "\n",
    "def plots(mu:torch.tensor, K:torch.tensor, Y:torch.tensor):\n",
    "    \"\"\"Plot mean function and 95% CI of posterior dist. alongside observations.\n",
    "    \n",
    "    args:\n",
    "        mu: mean function\n",
    "         K: Covariance matrix\n",
    "         Y: (m*tmax) data vector\n",
    "    \"\"\"\n",
    "    \n",
    "    conf = 2*torch.sqrt( torch.diag(K) ) # Extract Confidence intervals\n",
    "\n",
    "    fig, (ax1, ax2) = plt.subplots(1, 2)\n",
    "    fig.suptitle('Y')\n",
    "\n",
    "    tmax = int( 0.5*len(K[0]) )\n",
    "    T = np.arange(tmax)\n",
    "    \n",
    "    # plot ground truth\n",
    "    ax1.plot(T, Y[0:tmax], 'k*' )\n",
    "    ax2.plot(T, Y[tmax:2*tmax], 'k*' )\n",
    "\n",
    "    # plot means\n",
    "    ax1.plot(T, mu[:tmax], 'b')\n",
    "    ax2.plot(T, mu[tmax:2*tmax], 'b')\n",
    "\n",
    "    # Shade between the lower and upper confidence bounds\n",
    "    low0 = mu[:tmax] - conf[:tmax]\n",
    "    upp0 = mu[:tmax] + conf[:tmax]\n",
    "    low1 = mu[tmax:2*tmax] - conf[tmax:2*tmax]\n",
    "    upp1 = mu[tmax:2*tmax] + conf[tmax:2*tmax]\n",
    "\n",
    "    ax1.fill_between(T, low0, upp0, alpha=0.5)\n",
    "    ax2.fill_between(T, low1, upp1, alpha=0.5)\n",
    "\n",
    "    ax1.set_title('Y1')\n",
    "    ax2.set_title('Y2')\n",
    "\n",
    "    return 0"
   ]
  },
  {
   "cell_type": "markdown",
   "id": "25e05fee-57f9-4486-a9de-68b03c843774",
   "metadata": {},
   "source": [
    "### Main"
   ]
  },
  {
   "cell_type": "code",
   "execution_count": 144,
   "id": "cea3b45d-b887-4275-827e-1e0edf30c4e8",
   "metadata": {},
   "outputs": [
    {
     "name": "stdout",
     "output_type": "stream",
     "text": [
      "{'A': array([[-2.,  1.],\n",
      "       [-4., -1.]]), 'B': array([[1., 0.],\n",
      "       [1., 0.]]), 'C': array([[1., 0.],\n",
      "       [0., 1.]]), 'D': array([0., 0.])}\n",
      "{'batch': 12, 'tmax': 30, 'm': 2, 'name': 'SE', 'cond': 'contracting', 'px': 60, 'py': 60, 'sig': 0.01, 'seed': 15, 'lt': 5, 'r': 3}\n"
     ]
    }
   ],
   "source": [
    "# Import trajectories\n",
    "\n",
    "D = 4 # dataset number to load - this one has D=0!\n",
    "data_path = '/qfs/projects/atscale/atscale_dyn/Data/GP/Dataset{0}/'.format(D)\n",
    "\n",
    "with open(data_path+'exp_setup.npy', 'rb') as f:\n",
    "    exp_setup = np.load(f, allow_pickle=True)\n",
    "with open(data_path+'LTI_params.npy', 'rb') as f:\n",
    "    LTI_params = np.load(f, allow_pickle=True)\n",
    "with open(data_path+'U.npy', 'rb') as f:\n",
    "    U = np.load(f)\n",
    "with open(data_path+'X.npy', 'rb') as f:\n",
    "    X = np.load(f)\n",
    "with open(data_path+'Y.npy', 'rb') as f:\n",
    "    Y = np.load(f)\n",
    "with open(data_path+'Y_tilde.npy', 'rb') as f:\n",
    "    Y_tilde = np.load(f)\n",
    "    \n",
    "LTI_params = LTI_params.tolist()\n",
    "exp_setup = exp_setup.tolist()\n",
    "print(LTI_params)\n",
    "print(exp_setup)\n",
    "\n",
    "batch = exp_setup['batch']\n",
    "tmax = exp_setup['tmax']\n",
    "m = exp_setup['m']\n",
    "sig = exp_setup['sig']\n",
    "\n",
    "A = torch.from_numpy( LTI_params['A'] )\n",
    "B = torch.from_numpy( LTI_params['B'] )\n",
    "C = torch.from_numpy( LTI_params['C'] )\n",
    "D = torch.from_numpy( LTI_params['D'] )\n",
    "\n",
    "U = torch.from_numpy(U)\n",
    "X = torch.from_numpy(X)\n",
    "Y = torch.from_numpy(Y)\n",
    "Y_tilde = torch.from_numpy(Y_tilde)"
   ]
  },
  {
   "cell_type": "code",
   "execution_count": 126,
   "id": "a4d54ba7-1f8b-454f-8f02-ebbeefa17a2b",
   "metadata": {},
   "outputs": [],
   "source": [
    "# compute and save K\n",
    "res = 0.5\n",
    "mu = torch.zeros(tmax)\n",
    "# K_mat = K(m, tmax, res, A, B, C, D)\n",
    "K_mat = K_00\n",
    "# K_mat.numpy()\n",
    "# with open(data_path+'K_mat.npy', 'wb') as f:\n",
    "#     np.save(f, K_mat)"
   ]
  },
  {
   "cell_type": "code",
   "execution_count": 145,
   "id": "f6f848d7-bde8-4a85-9367-9f1c416ac74b",
   "metadata": {},
   "outputs": [
    {
     "data": {
      "text/plain": [
       "0"
      ]
     },
     "execution_count": 145,
     "metadata": {},
     "output_type": "execute_result"
    },
    {
     "data": {
      "image/png": "[encoded data removed]",
      "text/plain": [
       "<Figure size 640x480 with 2 Axes>"
      ]
     },
     "metadata": {},
     "output_type": "display_data"
    }
   ],
   "source": [
    "# Plot K matrix\n",
    "# D = 4 # dataset number to load\n",
    "# data_path = '/qfs/projects/atscale/atscale_dyn/Data/GP/Dataset{0}/'.format(D)\n",
    "# with open(data_path+'K_mat.npy', 'rb') as f:\n",
    "#     K_mat = np.load(f)\n",
    "    \n",
    "plot_K(K_mat, tmax)"
   ]
  },
  {
   "cell_type": "code",
   "execution_count": 146,
   "id": "9ef934d1-66af-405c-9d82-ecc1e4d4a70e",
   "metadata": {},
   "outputs": [
    {
     "data": {
      "text/plain": [
       "0"
      ]
     },
     "execution_count": 146,
     "metadata": {},
     "output_type": "execute_result"
    },
    {
     "data": {
      "image/png": "[encoded data removed]",
      "text/plain": [
       "<Figure size 640x480 with 2 Axes>"
      ]
     },
     "metadata": {},
     "output_type": "display_data"
    }
   ],
   "source": [
    "# plot prior against data\n",
    "Y0 = stack_traj(Y_tilde[0]) # first trajectory\n",
    "plots(mu, K_mat, Y0[:tmax])"
   ]
  },
  {
   "cell_type": "code",
   "execution_count": 147,
   "id": "954ed776-ca4a-4c22-9aee-d584d5ed3a29",
   "metadata": {},
   "outputs": [
    {
     "name": "stdout",
     "output_type": "stream",
     "text": [
      "Computing K_inv ...\n",
      "K_inv computed!\n"
     ]
    }
   ],
   "source": [
    "# compute posterior and save K_inv\n",
    "mu_post, K_post, K_inv = post(K_mat, sig, Y_tilde[0,:,0])\n",
    "\n",
    "# K_inv.numpy()\n",
    "# with open(data_path+'K_inv.npy', 'wb') as f:\n",
    "#     np.save(f, K_inv)"
   ]
  },
  {
   "cell_type": "code",
   "execution_count": 148,
   "id": "8262f55c-af43-46d9-96aa-678d9b752058",
   "metadata": {},
   "outputs": [
    {
     "data": {
      "text/plain": [
       "0"
      ]
     },
     "execution_count": 148,
     "metadata": {},
     "output_type": "execute_result"
    },
    {
     "data": {
      "image/png": "[encoded data removed]",
      "text/plain": [
       "<Figure size 640x480 with 2 Axes>"
      ]
     },
     "metadata": {},
     "output_type": "display_data"
    }
   ],
   "source": [
    "# Plot K matrix\n",
    "plot_K(K_post, tmax)"
   ]
  },
  {
   "cell_type": "code",
   "execution_count": 149,
   "id": "8dd705b0-4173-440a-a770-0e4711a5b74e",
   "metadata": {},
   "outputs": [
    {
     "data": {
      "text/plain": [
       "0"
      ]
     },
     "execution_count": 149,
     "metadata": {},
     "output_type": "execute_result"
    },
    {
     "data": {
      "image/png": "[encoded data removed]",
      "text/plain": [
       "<Figure size 640x480 with 2 Axes>"
      ]
     },
     "metadata": {},
     "output_type": "display_data"
    }
   ],
   "source": [
    "# plot posterior against data\n",
    "plots(mu_post, K_post, Y0)"
   ]
  },
  {
   "cell_type": "code",
   "execution_count": null,
   "id": "8a05eb4d-3234-4f64-97d1-8fcdfcb70dd8",
   "metadata": {},
   "outputs": [],
   "source": []
  }
 ],
 "metadata": {
  "kernelspec": {
   "display_name": "Python 3 (ipykernel)",
   "language": "python",
   "name": "python3"
  },
  "language_info": {
   "codemirror_mode": {
    "name": "ipython",
    "version": 3
   },
   "file_extension": ".py",
   "mimetype": "text/x-python",
   "name": "python",
   "nbconvert_exporter": "python",
   "pygments_lexer": "ipython3",
   "version": "3.12.2"
  }
 },
 "nbformat": 4,
 "nbformat_minor": 5
}
